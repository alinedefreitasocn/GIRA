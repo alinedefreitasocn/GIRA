{
 "cells": [
  {
   "cell_type": "code",
   "execution_count": 1,
   "id": "21ad4f8d",
   "metadata": {},
   "outputs": [],
   "source": [
    "import pandas as pd\n",
    "import os\n",
    "import json, urllib.request\n",
    "import numpy as np"
   ]
  },
  {
   "cell_type": "markdown",
   "id": "809472a1",
   "metadata": {},
   "source": [
    "Reading the first file: `estacoes-gira-2--semestre-2022.csv`"
   ]
  },
  {
   "cell_type": "markdown",
   "id": "c7390c07",
   "metadata": {},
   "source": [
    "The join() function from the os.path module creates a path in the format required by the operating system upon which the code is being run (i.e. whatever operating system your computer is running)."
   ]
  },
  {
   "cell_type": "code",
   "execution_count": 2,
   "id": "c9ff801f",
   "metadata": {},
   "outputs": [],
   "source": [
    "# getting the curring working directory\n",
    "#path = os.getcwd() \n",
    "#data_path = os.path.join(path, 'GIRA/')\n",
    "data_path = '/mnt/d/Dados/FinalProject_GIRA/GIRA'\n",
    "entries = os.listdir(data_path)"
   ]
  },
  {
   "cell_type": "code",
   "execution_count": 3,
   "id": "f247cfb5",
   "metadata": {},
   "outputs": [
    {
     "data": {
      "text/plain": [
       "['estacoes-gira-2semestre-2022.csv',\n",
       " 'JSON_ciclovias.txt',\n",
       " 'README.md.txt',\n",
       " 'weather_docas_2020.csv',\n",
       " 'GIRA_presentation.pdf',\n",
       " 'GIRA.ipynb',\n",
       " 'estacoes-gira-1semestre-2022.csv',\n",
       " 'gira1t2020.xlsx',\n",
       " 'gira2t2020.xlsx',\n",
       " 'gira3t2020.xlsx',\n",
       " 'gira4t2020.xlsx',\n",
       " 'Gira_2023_05_26.csv',\n",
       " 'gira_lisboaaberta_one_day2023_05_26.csv',\n",
       " 'gira---bicicletas-de-lisboa-2021.7z']"
      ]
     },
     "execution_count": 3,
     "metadata": {},
     "output_type": "execute_result"
    }
   ],
   "source": [
    "entries"
   ]
  },
  {
   "cell_type": "code",
   "execution_count": 6,
   "id": "318487f3",
   "metadata": {},
   "outputs": [],
   "source": [
    "df = pd.read_csv(os.path.join(data_path, entries[0]), \n",
    "                 parse_dates=['entity_ts'])"
   ]
  },
  {
   "cell_type": "code",
   "execution_count": 7,
   "id": "c62e641b",
   "metadata": {},
   "outputs": [
    {
     "data": {
      "text/html": [
       "<div>\n",
       "<style scoped>\n",
       "    .dataframe tbody tr th:only-of-type {\n",
       "        vertical-align: middle;\n",
       "    }\n",
       "\n",
       "    .dataframe tbody tr th {\n",
       "        vertical-align: top;\n",
       "    }\n",
       "\n",
       "    .dataframe thead th {\n",
       "        text-align: right;\n",
       "    }\n",
       "</style>\n",
       "<table border=\"1\" class=\"dataframe\">\n",
       "  <thead>\n",
       "    <tr style=\"text-align: right;\">\n",
       "      <th></th>\n",
       "      <th>desigcomercial</th>\n",
       "      <th>numbicicletas</th>\n",
       "      <th>numdocas</th>\n",
       "      <th>position</th>\n",
       "      <th>entity_ts</th>\n",
       "      <th>estado</th>\n",
       "    </tr>\n",
       "  </thead>\n",
       "  <tbody>\n",
       "    <tr>\n",
       "      <th>0</th>\n",
       "      <td>135 - Avenida Cidade de Lourenço Marques / Val...</td>\n",
       "      <td>7</td>\n",
       "      <td>20</td>\n",
       "      <td>{\"coordinates\":[-9.118689,38.764067],\"type\":\"P...</td>\n",
       "      <td>2022-07-27 15:53:45.206000+00:00</td>\n",
       "      <td>active</td>\n",
       "    </tr>\n",
       "    <tr>\n",
       "      <th>1</th>\n",
       "      <td>456 - Entrecampos / Av. das Forças Armadas</td>\n",
       "      <td>18</td>\n",
       "      <td>41</td>\n",
       "      <td>{\"coordinates\":[-9.14872,38.74877],\"type\":\"Poi...</td>\n",
       "      <td>2022-07-27 15:53:46.819000+00:00</td>\n",
       "      <td>active</td>\n",
       "    </tr>\n",
       "    <tr>\n",
       "      <th>2</th>\n",
       "      <td>132 - Avenida de Berlim / Rua Cidade de Cabinda</td>\n",
       "      <td>2</td>\n",
       "      <td>25</td>\n",
       "      <td>{\"coordinates\":[-9.11255,38.76829],\"type\":\"Poi...</td>\n",
       "      <td>2022-07-27 15:53:44.936000+00:00</td>\n",
       "      <td>active</td>\n",
       "    </tr>\n",
       "  </tbody>\n",
       "</table>\n",
       "</div>"
      ],
      "text/plain": [
       "                                      desigcomercial  numbicicletas  numdocas  \\\n",
       "0  135 - Avenida Cidade de Lourenço Marques / Val...              7        20   \n",
       "1         456 - Entrecampos / Av. das Forças Armadas             18        41   \n",
       "2    132 - Avenida de Berlim / Rua Cidade de Cabinda              2        25   \n",
       "\n",
       "                                            position  \\\n",
       "0  {\"coordinates\":[-9.118689,38.764067],\"type\":\"P...   \n",
       "1  {\"coordinates\":[-9.14872,38.74877],\"type\":\"Poi...   \n",
       "2  {\"coordinates\":[-9.11255,38.76829],\"type\":\"Poi...   \n",
       "\n",
       "                         entity_ts  estado  \n",
       "0 2022-07-27 15:53:45.206000+00:00  active  \n",
       "1 2022-07-27 15:53:46.819000+00:00  active  \n",
       "2 2022-07-27 15:53:44.936000+00:00  active  "
      ]
     },
     "execution_count": 7,
     "metadata": {},
     "output_type": "execute_result"
    }
   ],
   "source": [
    "df.head(3)"
   ]
  },
  {
   "cell_type": "code",
   "execution_count": 6,
   "id": "fddbcd9e",
   "metadata": {},
   "outputs": [
    {
     "data": {
      "text/plain": [
       "desigcomercial    0\n",
       "numbicicletas     0\n",
       "numdocas          0\n",
       "position          0\n",
       "entity_ts         0\n",
       "estado            0\n",
       "dtype: int64"
      ]
     },
     "execution_count": 6,
     "metadata": {},
     "output_type": "execute_result"
    }
   ],
   "source": [
    "df.isna().sum()"
   ]
  },
  {
   "cell_type": "markdown",
   "id": "6685206d",
   "metadata": {},
   "source": [
    "## Organizing the data\n",
    "\n",
    "- The station ID is a string with the station name. I want it as a separate column.\n",
    "- The coordinates are into a single column and as a string. I want it as a float and in two different columns."
   ]
  },
  {
   "cell_type": "code",
   "execution_count": 9,
   "id": "e8531fce",
   "metadata": {},
   "outputs": [],
   "source": [
    "df['station_name'] = df['desigcomercial'].str.split('-').str[1]\n",
    "df['stationID'] = df['desigcomercial'].str.split('-').str[0].astype(int)\n",
    "df.drop(columns=['desigcomercial', 'position'], inplace=True)"
   ]
  },
  {
   "cell_type": "code",
   "execution_count": 36,
   "id": "8b9bb043",
   "metadata": {},
   "outputs": [
    {
     "data": {
      "text/plain": [
       "[101,\n",
       " 102,\n",
       " 103,\n",
       " 104,\n",
       " 105,\n",
       " 106,\n",
       " 107,\n",
       " 108,\n",
       " 109,\n",
       " 110,\n",
       " 112,\n",
       " 113,\n",
       " 114,\n",
       " 115,\n",
       " 130,\n",
       " 131,\n",
       " 132,\n",
       " 133,\n",
       " 134,\n",
       " 135,\n",
       " 137,\n",
       " 139,\n",
       " 150,\n",
       " 151,\n",
       " 203,\n",
       " 205,\n",
       " 206,\n",
       " 208,\n",
       " 209,\n",
       " 212,\n",
       " 213,\n",
       " 214,\n",
       " 215,\n",
       " 216,\n",
       " 218,\n",
       " 219,\n",
       " 220,\n",
       " 221,\n",
       " 222,\n",
       " 223,\n",
       " 224,\n",
       " 225,\n",
       " 226,\n",
       " 232,\n",
       " 235,\n",
       " 237,\n",
       " 238,\n",
       " 301,\n",
       " 303,\n",
       " 304,\n",
       " 305,\n",
       " 306,\n",
       " 307,\n",
       " 308,\n",
       " 309,\n",
       " 310,\n",
       " 311,\n",
       " 312,\n",
       " 313,\n",
       " 314,\n",
       " 315,\n",
       " 316,\n",
       " 351,\n",
       " 352,\n",
       " 361,\n",
       " 362,\n",
       " 363,\n",
       " 364,\n",
       " 365,\n",
       " 366,\n",
       " 401,\n",
       " 403,\n",
       " 406,\n",
       " 407,\n",
       " 408,\n",
       " 410,\n",
       " 412,\n",
       " 413,\n",
       " 414,\n",
       " 415,\n",
       " 416,\n",
       " 417,\n",
       " 419,\n",
       " 420,\n",
       " 421,\n",
       " 423,\n",
       " 426,\n",
       " 427,\n",
       " 428,\n",
       " 430,\n",
       " 431,\n",
       " 432,\n",
       " 433,\n",
       " 435,\n",
       " 436,\n",
       " 442,\n",
       " 443,\n",
       " 446,\n",
       " 449,\n",
       " 450,\n",
       " 452,\n",
       " 453,\n",
       " 456,\n",
       " 457,\n",
       " 459,\n",
       " 460,\n",
       " 461,\n",
       " 462,\n",
       " 463,\n",
       " 464,\n",
       " 468,\n",
       " 471,\n",
       " 472,\n",
       " 473,\n",
       " 474,\n",
       " 475,\n",
       " 476,\n",
       " 477,\n",
       " 478,\n",
       " 479,\n",
       " 480,\n",
       " 481,\n",
       " 483,\n",
       " 484,\n",
       " 485,\n",
       " 486,\n",
       " 487,\n",
       " 488,\n",
       " 490,\n",
       " 506,\n",
       " 507,\n",
       " 508,\n",
       " 509,\n",
       " 510,\n",
       " 513,\n",
       " 517,\n",
       " 518,\n",
       " 519,\n",
       " 520,\n",
       " 521,\n",
       " 550,\n",
       " 551,\n",
       " 552,\n",
       " 553,\n",
       " 554,\n",
       " 555,\n",
       " 556]"
      ]
     },
     "execution_count": 36,
     "metadata": {},
     "output_type": "execute_result"
    }
   ],
   "source": [
    "list(df_sorted.stationID.unique())"
   ]
  },
  {
   "cell_type": "code",
   "execution_count": 38,
   "id": "64f8c8eb",
   "metadata": {},
   "outputs": [
    {
     "data": {
      "text/plain": [
       "' Avenida Cidade de Lourenço Marques / Vale do'"
      ]
     },
     "execution_count": 38,
     "metadata": {},
     "output_type": "execute_result"
    }
   ],
   "source": [
    "df['station_name'][0]"
   ]
  },
  {
   "cell_type": "code",
   "execution_count": null,
   "id": "592f89ec",
   "metadata": {},
   "outputs": [],
   "source": [
    "df['stationID'].nunique()"
   ]
  },
  {
   "cell_type": "markdown",
   "id": "8635ec6e",
   "metadata": {},
   "source": [
    "## Sorting\n",
    "\n",
    "I want the data sorted by station ID and timestamp. With this information we could check the diff in the timestamp column and realize that it's not homogeneous. My idea is to transform it into periods of the day: 'morning', 'lunch time', 'afternoon', 'night'.\n",
    "\n",
    "After sorting, I can calculate the number of bicicles taken by taking the difference in number of bicicles column."
   ]
  },
  {
   "cell_type": "code",
   "execution_count": 11,
   "id": "ae71cac3",
   "metadata": {},
   "outputs": [],
   "source": [
    "# order the dataframe by stationID and time\n",
    "df_sorted = df.sort_values(by=['stationID', 'entity_ts']) # "
   ]
  },
  {
   "cell_type": "code",
   "execution_count": 13,
   "id": "3efeaeff",
   "metadata": {},
   "outputs": [
    {
     "data": {
      "text/html": [
       "<div>\n",
       "<style scoped>\n",
       "    .dataframe tbody tr th:only-of-type {\n",
       "        vertical-align: middle;\n",
       "    }\n",
       "\n",
       "    .dataframe tbody tr th {\n",
       "        vertical-align: top;\n",
       "    }\n",
       "\n",
       "    .dataframe thead th {\n",
       "        text-align: right;\n",
       "    }\n",
       "</style>\n",
       "<table border=\"1\" class=\"dataframe\">\n",
       "  <thead>\n",
       "    <tr style=\"text-align: right;\">\n",
       "      <th></th>\n",
       "      <th>numbicicletas</th>\n",
       "      <th>numdocas</th>\n",
       "      <th>entity_ts</th>\n",
       "      <th>estado</th>\n",
       "      <th>station_name</th>\n",
       "      <th>stationID</th>\n",
       "    </tr>\n",
       "  </thead>\n",
       "  <tbody>\n",
       "    <tr>\n",
       "      <th>903376</th>\n",
       "      <td>10</td>\n",
       "      <td>16</td>\n",
       "      <td>2022-07-01 00:13:52.742000+00:00</td>\n",
       "      <td>active</td>\n",
       "      <td>Alameda dos Oceanos / Rua dos Argonautas</td>\n",
       "      <td>101</td>\n",
       "    </tr>\n",
       "    <tr>\n",
       "      <th>907126</th>\n",
       "      <td>10</td>\n",
       "      <td>16</td>\n",
       "      <td>2022-07-01 00:13:52.742000+00:00</td>\n",
       "      <td>active</td>\n",
       "      <td>Alameda dos Oceanos / Rua dos Argonautas</td>\n",
       "      <td>101</td>\n",
       "    </tr>\n",
       "    <tr>\n",
       "      <th>1589187</th>\n",
       "      <td>13</td>\n",
       "      <td>16</td>\n",
       "      <td>2022-07-01 01:33:54.511000+00:00</td>\n",
       "      <td>active</td>\n",
       "      <td>Alameda dos Oceanos / Rua dos Argonautas</td>\n",
       "      <td>101</td>\n",
       "    </tr>\n",
       "    <tr>\n",
       "      <th>430100</th>\n",
       "      <td>14</td>\n",
       "      <td>16</td>\n",
       "      <td>2022-07-01 01:53:55.624000+00:00</td>\n",
       "      <td>active</td>\n",
       "      <td>Alameda dos Oceanos / Rua dos Argonautas</td>\n",
       "      <td>101</td>\n",
       "    </tr>\n",
       "    <tr>\n",
       "      <th>1621682</th>\n",
       "      <td>14</td>\n",
       "      <td>16</td>\n",
       "      <td>2022-07-01 01:53:55.624000+00:00</td>\n",
       "      <td>active</td>\n",
       "      <td>Alameda dos Oceanos / Rua dos Argonautas</td>\n",
       "      <td>101</td>\n",
       "    </tr>\n",
       "    <tr>\n",
       "      <th>1987140</th>\n",
       "      <td>14</td>\n",
       "      <td>16</td>\n",
       "      <td>2022-07-01 02:13:55.556000+00:00</td>\n",
       "      <td>active</td>\n",
       "      <td>Alameda dos Oceanos / Rua dos Argonautas</td>\n",
       "      <td>101</td>\n",
       "    </tr>\n",
       "    <tr>\n",
       "      <th>903521</th>\n",
       "      <td>14</td>\n",
       "      <td>16</td>\n",
       "      <td>2022-07-01 02:33:55.790000+00:00</td>\n",
       "      <td>active</td>\n",
       "      <td>Alameda dos Oceanos / Rua dos Argonautas</td>\n",
       "      <td>101</td>\n",
       "    </tr>\n",
       "    <tr>\n",
       "      <th>907271</th>\n",
       "      <td>14</td>\n",
       "      <td>16</td>\n",
       "      <td>2022-07-01 02:33:55.790000+00:00</td>\n",
       "      <td>active</td>\n",
       "      <td>Alameda dos Oceanos / Rua dos Argonautas</td>\n",
       "      <td>101</td>\n",
       "    </tr>\n",
       "    <tr>\n",
       "      <th>1589198</th>\n",
       "      <td>14</td>\n",
       "      <td>16</td>\n",
       "      <td>2022-07-01 02:53:55.796000+00:00</td>\n",
       "      <td>active</td>\n",
       "      <td>Alameda dos Oceanos / Rua dos Argonautas</td>\n",
       "      <td>101</td>\n",
       "    </tr>\n",
       "    <tr>\n",
       "      <th>903649</th>\n",
       "      <td>8</td>\n",
       "      <td>16</td>\n",
       "      <td>2022-07-01 04:13:58.037000+00:00</td>\n",
       "      <td>active</td>\n",
       "      <td>Alameda dos Oceanos / Rua dos Argonautas</td>\n",
       "      <td>101</td>\n",
       "    </tr>\n",
       "    <tr>\n",
       "      <th>907399</th>\n",
       "      <td>8</td>\n",
       "      <td>16</td>\n",
       "      <td>2022-07-01 04:13:58.037000+00:00</td>\n",
       "      <td>active</td>\n",
       "      <td>Alameda dos Oceanos / Rua dos Argonautas</td>\n",
       "      <td>101</td>\n",
       "    </tr>\n",
       "    <tr>\n",
       "      <th>1987793</th>\n",
       "      <td>8</td>\n",
       "      <td>16</td>\n",
       "      <td>2022-07-01 04:33:58.045000+00:00</td>\n",
       "      <td>active</td>\n",
       "      <td>Alameda dos Oceanos / Rua dos Argonautas</td>\n",
       "      <td>101</td>\n",
       "    </tr>\n",
       "    <tr>\n",
       "      <th>1987187</th>\n",
       "      <td>8</td>\n",
       "      <td>16</td>\n",
       "      <td>2022-07-01 04:53:58.412000+00:00</td>\n",
       "      <td>active</td>\n",
       "      <td>Alameda dos Oceanos / Rua dos Argonautas</td>\n",
       "      <td>101</td>\n",
       "    </tr>\n",
       "    <tr>\n",
       "      <th>38109</th>\n",
       "      <td>9</td>\n",
       "      <td>16</td>\n",
       "      <td>2022-07-01 05:53:59.643000+00:00</td>\n",
       "      <td>active</td>\n",
       "      <td>Alameda dos Oceanos / Rua dos Argonautas</td>\n",
       "      <td>101</td>\n",
       "    </tr>\n",
       "    <tr>\n",
       "      <th>408606</th>\n",
       "      <td>9</td>\n",
       "      <td>16</td>\n",
       "      <td>2022-07-01 06:14:00.310000+00:00</td>\n",
       "      <td>active</td>\n",
       "      <td>Alameda dos Oceanos / Rua dos Argonautas</td>\n",
       "      <td>101</td>\n",
       "    </tr>\n",
       "    <tr>\n",
       "      <th>1645044</th>\n",
       "      <td>10</td>\n",
       "      <td>16</td>\n",
       "      <td>2022-07-01 06:33:59.764000+00:00</td>\n",
       "      <td>active</td>\n",
       "      <td>Alameda dos Oceanos / Rua dos Argonautas</td>\n",
       "      <td>101</td>\n",
       "    </tr>\n",
       "    <tr>\n",
       "      <th>1987239</th>\n",
       "      <td>5</td>\n",
       "      <td>16</td>\n",
       "      <td>2022-07-01 06:54:00.272000+00:00</td>\n",
       "      <td>active</td>\n",
       "      <td>Alameda dos Oceanos / Rua dos Argonautas</td>\n",
       "      <td>101</td>\n",
       "    </tr>\n",
       "    <tr>\n",
       "      <th>903850</th>\n",
       "      <td>2</td>\n",
       "      <td>16</td>\n",
       "      <td>2022-07-01 07:14:01.260000+00:00</td>\n",
       "      <td>active</td>\n",
       "      <td>Alameda dos Oceanos / Rua dos Argonautas</td>\n",
       "      <td>101</td>\n",
       "    </tr>\n",
       "    <tr>\n",
       "      <th>907600</th>\n",
       "      <td>2</td>\n",
       "      <td>16</td>\n",
       "      <td>2022-07-01 07:14:01.260000+00:00</td>\n",
       "      <td>active</td>\n",
       "      <td>Alameda dos Oceanos / Rua dos Argonautas</td>\n",
       "      <td>101</td>\n",
       "    </tr>\n",
       "    <tr>\n",
       "      <th>903918</th>\n",
       "      <td>3</td>\n",
       "      <td>16</td>\n",
       "      <td>2022-07-01 08:14:19.549000+00:00</td>\n",
       "      <td>active</td>\n",
       "      <td>Alameda dos Oceanos / Rua dos Argonautas</td>\n",
       "      <td>101</td>\n",
       "    </tr>\n",
       "  </tbody>\n",
       "</table>\n",
       "</div>"
      ],
      "text/plain": [
       "         numbicicletas  numdocas                        entity_ts  estado  \\\n",
       "903376              10        16 2022-07-01 00:13:52.742000+00:00  active   \n",
       "907126              10        16 2022-07-01 00:13:52.742000+00:00  active   \n",
       "1589187             13        16 2022-07-01 01:33:54.511000+00:00  active   \n",
       "430100              14        16 2022-07-01 01:53:55.624000+00:00  active   \n",
       "1621682             14        16 2022-07-01 01:53:55.624000+00:00  active   \n",
       "1987140             14        16 2022-07-01 02:13:55.556000+00:00  active   \n",
       "903521              14        16 2022-07-01 02:33:55.790000+00:00  active   \n",
       "907271              14        16 2022-07-01 02:33:55.790000+00:00  active   \n",
       "1589198             14        16 2022-07-01 02:53:55.796000+00:00  active   \n",
       "903649               8        16 2022-07-01 04:13:58.037000+00:00  active   \n",
       "907399               8        16 2022-07-01 04:13:58.037000+00:00  active   \n",
       "1987793              8        16 2022-07-01 04:33:58.045000+00:00  active   \n",
       "1987187              8        16 2022-07-01 04:53:58.412000+00:00  active   \n",
       "38109                9        16 2022-07-01 05:53:59.643000+00:00  active   \n",
       "408606               9        16 2022-07-01 06:14:00.310000+00:00  active   \n",
       "1645044             10        16 2022-07-01 06:33:59.764000+00:00  active   \n",
       "1987239              5        16 2022-07-01 06:54:00.272000+00:00  active   \n",
       "903850               2        16 2022-07-01 07:14:01.260000+00:00  active   \n",
       "907600               2        16 2022-07-01 07:14:01.260000+00:00  active   \n",
       "903918               3        16 2022-07-01 08:14:19.549000+00:00  active   \n",
       "\n",
       "                                      station_name  stationID  \n",
       "903376    Alameda dos Oceanos / Rua dos Argonautas        101  \n",
       "907126    Alameda dos Oceanos / Rua dos Argonautas        101  \n",
       "1589187   Alameda dos Oceanos / Rua dos Argonautas        101  \n",
       "430100    Alameda dos Oceanos / Rua dos Argonautas        101  \n",
       "1621682   Alameda dos Oceanos / Rua dos Argonautas        101  \n",
       "1987140   Alameda dos Oceanos / Rua dos Argonautas        101  \n",
       "903521    Alameda dos Oceanos / Rua dos Argonautas        101  \n",
       "907271    Alameda dos Oceanos / Rua dos Argonautas        101  \n",
       "1589198   Alameda dos Oceanos / Rua dos Argonautas        101  \n",
       "903649    Alameda dos Oceanos / Rua dos Argonautas        101  \n",
       "907399    Alameda dos Oceanos / Rua dos Argonautas        101  \n",
       "1987793   Alameda dos Oceanos / Rua dos Argonautas        101  \n",
       "1987187   Alameda dos Oceanos / Rua dos Argonautas        101  \n",
       "38109     Alameda dos Oceanos / Rua dos Argonautas        101  \n",
       "408606    Alameda dos Oceanos / Rua dos Argonautas        101  \n",
       "1645044   Alameda dos Oceanos / Rua dos Argonautas        101  \n",
       "1987239   Alameda dos Oceanos / Rua dos Argonautas        101  \n",
       "903850    Alameda dos Oceanos / Rua dos Argonautas        101  \n",
       "907600    Alameda dos Oceanos / Rua dos Argonautas        101  \n",
       "903918    Alameda dos Oceanos / Rua dos Argonautas        101  "
      ]
     },
     "execution_count": 13,
     "metadata": {},
     "output_type": "execute_result"
    }
   ],
   "source": [
    "df_sorted.head(20)"
   ]
  },
  {
   "cell_type": "code",
   "execution_count": null,
   "id": "28d7ff54",
   "metadata": {},
   "outputs": [],
   "source": [
    "df.shape"
   ]
  },
  {
   "cell_type": "markdown",
   "id": "dc509aad",
   "metadata": {},
   "source": [
    "## Drop duplicates\n",
    "\n",
    "By checking the time, I realize there are some duplicates, so we will drop it."
   ]
  },
  {
   "cell_type": "code",
   "execution_count": 15,
   "id": "ec332d40",
   "metadata": {},
   "outputs": [],
   "source": [
    "df_sorted.drop_duplicates(inplace=True)"
   ]
  },
  {
   "cell_type": "code",
   "execution_count": 16,
   "id": "beeee36b",
   "metadata": {},
   "outputs": [
    {
     "data": {
      "text/plain": [
       "(1235809, 6)"
      ]
     },
     "execution_count": 16,
     "metadata": {},
     "output_type": "execute_result"
    }
   ],
   "source": [
    "df_sorted.shape"
   ]
  },
  {
   "cell_type": "code",
   "execution_count": 17,
   "id": "073b8951",
   "metadata": {},
   "outputs": [],
   "source": [
    "# checking the first station\n",
    "st101 = df_sorted[df_sorted['stationID'] == 101]"
   ]
  },
  {
   "cell_type": "code",
   "execution_count": 18,
   "id": "2cec4d54",
   "metadata": {},
   "outputs": [
    {
     "data": {
      "text/plain": [
       "(8522, 6)"
      ]
     },
     "execution_count": 18,
     "metadata": {},
     "output_type": "execute_result"
    }
   ],
   "source": [
    "st101.shape"
   ]
  },
  {
   "cell_type": "code",
   "execution_count": 24,
   "id": "75b80b8f",
   "metadata": {},
   "outputs": [
    {
     "name": "stderr",
     "output_type": "stream",
     "text": [
      "/tmp/ipykernel_3988/2308042089.py:1: SettingWithCopyWarning: \n",
      "A value is trying to be set on a copy of a slice from a DataFrame.\n",
      "Try using .loc[row_indexer,col_indexer] = value instead\n",
      "\n",
      "See the caveats in the documentation: https://pandas.pydata.org/pandas-docs/stable/user_guide/indexing.html#returning-a-view-versus-a-copy\n",
      "  st101.loc[:,'diff_time'] = st101.loc[:,'entity_ts'].diff()\n"
     ]
    }
   ],
   "source": [
    "st101.loc[:,'diff_time'] = st101.loc[:,'entity_ts'].diff()"
   ]
  },
  {
   "cell_type": "code",
   "execution_count": 29,
   "id": "f595a7bd",
   "metadata": {},
   "outputs": [
    {
     "data": {
      "text/html": [
       "<div>\n",
       "<style scoped>\n",
       "    .dataframe tbody tr th:only-of-type {\n",
       "        vertical-align: middle;\n",
       "    }\n",
       "\n",
       "    .dataframe tbody tr th {\n",
       "        vertical-align: top;\n",
       "    }\n",
       "\n",
       "    .dataframe thead th {\n",
       "        text-align: right;\n",
       "    }\n",
       "</style>\n",
       "<table border=\"1\" class=\"dataframe\">\n",
       "  <thead>\n",
       "    <tr style=\"text-align: right;\">\n",
       "      <th></th>\n",
       "      <th>numbicicletas</th>\n",
       "      <th>numdocas</th>\n",
       "      <th>entity_ts</th>\n",
       "      <th>estado</th>\n",
       "      <th>station_name</th>\n",
       "      <th>stationID</th>\n",
       "      <th>diff_time</th>\n",
       "      <th>total_seconds</th>\n",
       "    </tr>\n",
       "  </thead>\n",
       "  <tbody>\n",
       "    <tr>\n",
       "      <th>903376</th>\n",
       "      <td>10</td>\n",
       "      <td>16</td>\n",
       "      <td>2022-07-01 00:13:52.742000+00:00</td>\n",
       "      <td>active</td>\n",
       "      <td>Alameda dos Oceanos / Rua dos Argonautas</td>\n",
       "      <td>101</td>\n",
       "      <td>0 days 00:00:00</td>\n",
       "      <td>0</td>\n",
       "    </tr>\n",
       "    <tr>\n",
       "      <th>1589187</th>\n",
       "      <td>13</td>\n",
       "      <td>16</td>\n",
       "      <td>2022-07-01 01:33:54.511000+00:00</td>\n",
       "      <td>active</td>\n",
       "      <td>Alameda dos Oceanos / Rua dos Argonautas</td>\n",
       "      <td>101</td>\n",
       "      <td>0 days 01:20:01.769000</td>\n",
       "      <td>4801</td>\n",
       "    </tr>\n",
       "    <tr>\n",
       "      <th>430100</th>\n",
       "      <td>14</td>\n",
       "      <td>16</td>\n",
       "      <td>2022-07-01 01:53:55.624000+00:00</td>\n",
       "      <td>active</td>\n",
       "      <td>Alameda dos Oceanos / Rua dos Argonautas</td>\n",
       "      <td>101</td>\n",
       "      <td>0 days 00:20:01.113000</td>\n",
       "      <td>1201</td>\n",
       "    </tr>\n",
       "    <tr>\n",
       "      <th>1987140</th>\n",
       "      <td>14</td>\n",
       "      <td>16</td>\n",
       "      <td>2022-07-01 02:13:55.556000+00:00</td>\n",
       "      <td>active</td>\n",
       "      <td>Alameda dos Oceanos / Rua dos Argonautas</td>\n",
       "      <td>101</td>\n",
       "      <td>0 days 00:19:59.932000</td>\n",
       "      <td>1199</td>\n",
       "    </tr>\n",
       "    <tr>\n",
       "      <th>903521</th>\n",
       "      <td>14</td>\n",
       "      <td>16</td>\n",
       "      <td>2022-07-01 02:33:55.790000+00:00</td>\n",
       "      <td>active</td>\n",
       "      <td>Alameda dos Oceanos / Rua dos Argonautas</td>\n",
       "      <td>101</td>\n",
       "      <td>0 days 00:20:00.234000</td>\n",
       "      <td>1200</td>\n",
       "    </tr>\n",
       "  </tbody>\n",
       "</table>\n",
       "</div>"
      ],
      "text/plain": [
       "         numbicicletas  numdocas                        entity_ts  estado  \\\n",
       "903376              10        16 2022-07-01 00:13:52.742000+00:00  active   \n",
       "1589187             13        16 2022-07-01 01:33:54.511000+00:00  active   \n",
       "430100              14        16 2022-07-01 01:53:55.624000+00:00  active   \n",
       "1987140             14        16 2022-07-01 02:13:55.556000+00:00  active   \n",
       "903521              14        16 2022-07-01 02:33:55.790000+00:00  active   \n",
       "\n",
       "                                      station_name  stationID  \\\n",
       "903376    Alameda dos Oceanos / Rua dos Argonautas        101   \n",
       "1589187   Alameda dos Oceanos / Rua dos Argonautas        101   \n",
       "430100    Alameda dos Oceanos / Rua dos Argonautas        101   \n",
       "1987140   Alameda dos Oceanos / Rua dos Argonautas        101   \n",
       "903521    Alameda dos Oceanos / Rua dos Argonautas        101   \n",
       "\n",
       "                     diff_time  total_seconds  \n",
       "903376         0 days 00:00:00              0  \n",
       "1589187 0 days 01:20:01.769000           4801  \n",
       "430100  0 days 00:20:01.113000           1201  \n",
       "1987140 0 days 00:19:59.932000           1199  \n",
       "903521  0 days 00:20:00.234000           1200  "
      ]
     },
     "execution_count": 29,
     "metadata": {},
     "output_type": "execute_result"
    }
   ],
   "source": [
    "st101.head()"
   ]
  },
  {
   "cell_type": "code",
   "execution_count": 26,
   "id": "435b3544",
   "metadata": {},
   "outputs": [
    {
     "name": "stderr",
     "output_type": "stream",
     "text": [
      "/tmp/ipykernel_3988/896781163.py:1: SettingWithCopyWarning: \n",
      "A value is trying to be set on a copy of a slice from a DataFrame\n",
      "\n",
      "See the caveats in the documentation: https://pandas.pydata.org/pandas-docs/stable/user_guide/indexing.html#returning-a-view-versus-a-copy\n",
      "  st101['diff_time'].replace({pd.NaT: pd.Timedelta(\"0 days\")}, inplace=True)\n"
     ]
    }
   ],
   "source": [
    "st101['diff_time'].replace({pd.NaT: pd.Timedelta(\"0 days\")}, inplace=True)"
   ]
  },
  {
   "cell_type": "code",
   "execution_count": 28,
   "id": "2308bd79",
   "metadata": {},
   "outputs": [
    {
     "name": "stderr",
     "output_type": "stream",
     "text": [
      "/tmp/ipykernel_3988/3659728410.py:1: SettingWithCopyWarning: \n",
      "A value is trying to be set on a copy of a slice from a DataFrame.\n",
      "Try using .loc[row_indexer,col_indexer] = value instead\n",
      "\n",
      "See the caveats in the documentation: https://pandas.pydata.org/pandas-docs/stable/user_guide/indexing.html#returning-a-view-versus-a-copy\n",
      "  st101['total_seconds'] = st101['diff_time'].apply(lambda x: int(x.total_seconds()))\n"
     ]
    }
   ],
   "source": [
    "st101['total_seconds'] = st101['diff_time'].apply(lambda x: int(x.total_seconds()))"
   ]
  },
  {
   "cell_type": "code",
   "execution_count": 30,
   "id": "1a53965d",
   "metadata": {},
   "outputs": [],
   "source": [
    "import matplotlib.pyplot as plt"
   ]
  },
  {
   "cell_type": "code",
   "execution_count": 33,
   "id": "2d47299b",
   "metadata": {},
   "outputs": [
    {
     "data": {
      "image/png": "[encoded data removed]",
      "text/plain": [
       "<Figure size 640x480 with 1 Axes>"
      ]
     },
     "metadata": {},
     "output_type": "display_data"
    }
   ],
   "source": [
    "plt.hist(st101['total_seconds'], bins=20);"
   ]
  },
  {
   "cell_type": "code",
   "execution_count": null,
   "id": "2cf91d7b",
   "metadata": {},
   "outputs": [],
   "source": [
    "plt.scatter(st101['entity_ts'], np.ones(len(st101)), marker='.')"
   ]
  },
  {
   "cell_type": "code",
   "execution_count": null,
   "id": "d11d2449",
   "metadata": {},
   "outputs": [],
   "source": [
    "st101"
   ]
  },
  {
   "cell_type": "markdown",
   "id": "a64bf6bb",
   "metadata": {},
   "source": [
    "2382896 observations with distinct time distribution, from 27 of June, 2022 to 16 of February, 2023 (about 6 months long). Info about station name, number of bicicles, number os docs (constant), position information (as string) and a date string. Will be cosidered as time series?"
   ]
  },
  {
   "cell_type": "code",
   "execution_count": null,
   "id": "33359ad1",
   "metadata": {},
   "outputs": [],
   "source": [
    "st101['bike_taken'] = df['numbicicletas'].diff().fillna(0)\n",
    "\n",
    "# I dont care about the positives values now, so I will set it to zero\n",
    "st101['bike_taken'][st101['bike_taken'] > 0] = 0"
   ]
  },
  {
   "cell_type": "code",
   "execution_count": null,
   "id": "5181dd0c",
   "metadata": {},
   "outputs": [],
   "source": [
    "st101"
   ]
  },
  {
   "cell_type": "code",
   "execution_count": null,
   "id": "c932d41c",
   "metadata": {},
   "outputs": [],
   "source": [
    "plt.bar(st101['entity_ts'], st101['bike_taken']);"
   ]
  },
  {
   "cell_type": "markdown",
   "id": "95ef60d7",
   "metadata": {},
   "source": [
    "## Split the day into periods"
   ]
  },
  {
   "cell_type": "code",
   "execution_count": null,
   "id": "84c2e028",
   "metadata": {},
   "outputs": [],
   "source": [
    "def period_time(x:pd.Series) -> str:\n",
    "    if x.hour >= 6 and x.hour <= 11:\n",
    "        return 'morning'\n",
    "    elif x.hour >= 12 and x.hour <= 15 :\n",
    "        return 'lunch'\n",
    "    elif x.hour >= 16 and x.hour <= 20:\n",
    "        return 'afternoon'\n",
    "    else:\n",
    "        return 'night'\n",
    "  "
   ]
  },
  {
   "cell_type": "code",
   "execution_count": null,
   "id": "23706d56",
   "metadata": {},
   "outputs": [],
   "source": [
    "st101['period'] = st101['entity_ts'].apply(period_time)"
   ]
  },
  {
   "cell_type": "markdown",
   "id": "c52bae4e",
   "metadata": {},
   "source": [
    "Now the ts can be just the date"
   ]
  },
  {
   "cell_type": "code",
   "execution_count": null,
   "id": "2414c1a7",
   "metadata": {},
   "outputs": [],
   "source": [
    "st101['date'] = st101['entity_ts'].dt.date"
   ]
  },
  {
   "cell_type": "code",
   "execution_count": null,
   "id": "ce973e9a",
   "metadata": {},
   "outputs": [],
   "source": [
    "st101"
   ]
  },
  {
   "cell_type": "code",
   "execution_count": null,
   "id": "727dee01",
   "metadata": {},
   "outputs": [],
   "source": [
    "st101.groupby(by=['date','period']).agg({\n",
    "    'bike_taken': 'sum',\n",
    "    'stationID': 'last',\n",
    "    'station_name': 'last',\n",
    "    'lat': 'last',\n",
    "    'lon': 'last'\n",
    "    \n",
    "})"
   ]
  },
  {
   "cell_type": "markdown",
   "id": "5a7838a2",
   "metadata": {},
   "source": [
    "# Map by time\n",
    "\n",
    "I think I need to resample the data to hourly and fill up the gaps with the mean between to steps?"
   ]
  },
  {
   "cell_type": "code",
   "execution_count": null,
   "id": "777e916a",
   "metadata": {},
   "outputs": [],
   "source": [
    "# setting the date to index\n",
    "df.set_index('entity_ts', drop=True, inplace=True)"
   ]
  },
  {
   "cell_type": "code",
   "execution_count": null,
   "id": "41a26590",
   "metadata": {},
   "outputs": [],
   "source": [
    "df.head()"
   ]
  },
  {
   "cell_type": "code",
   "execution_count": null,
   "id": "e0294998",
   "metadata": {},
   "outputs": [],
   "source": [
    "# resample to get data every 1 hour\n",
    "df_hour = df.resample('H').agg({'numbicicletas': 'mean',\n",
    "                      'lat': 'last',\n",
    "                      'lon': 'last',\n",
    "                      'station_name': 'last',\n",
    "                      'stationID': 'last',\n",
    "                      'estado': 'last'})"
   ]
  },
  {
   "cell_type": "code",
   "execution_count": null,
   "id": "20837da8",
   "metadata": {},
   "outputs": [],
   "source": [
    "# buble map with animation from plotly\n",
    "\n",
    "import plotly.express as px\n",
    "\n",
    "fig = px.scatter_geo(data_frame=df_hour, \n",
    "                     lat='lat', \n",
    "                     lon='lon',\n",
    "                     color=\"numbicicletas\",\n",
    "                     hover_name=\"stationID\", #size=\"numbicicletas\",\n",
    "                     animation_frame=df_hour.index,\n",
    "                     projection=\"natural earth\",\n",
    "                     #scope='europe'\n",
    "                     )\n",
    "fig.show()"
   ]
  },
  {
   "cell_type": "code",
   "execution_count": null,
   "id": "723eee91",
   "metadata": {},
   "outputs": [],
   "source": []
  }
 ],
 "metadata": {
  "kernelspec": {
   "display_name": "Python 3 (ipykernel)",
   "language": "python",
   "name": "python3"
  },
  "language_info": {
   "codemirror_mode": {
    "name": "ipython",
    "version": 3
   },
   "file_extension": ".py",
   "mimetype": "text/x-python",
   "name": "python",
   "nbconvert_exporter": "python",
   "pygments_lexer": "ipython3",
   "version": "3.10.6"
  },
  "toc": {
   "base_numbering": 1,
   "nav_menu": {},
   "number_sections": true,
   "sideBar": true,
   "skip_h1_title": false,
   "title_cell": "Table of Contents",
   "title_sidebar": "Contents",
   "toc_cell": false,
   "toc_position": {},
   "toc_section_display": true,
   "toc_window_display": false
  }
 },
 "nbformat": 4,
 "nbformat_minor": 5
}
